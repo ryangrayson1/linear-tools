{
 "cells": [
  {
   "cell_type": "code",
   "execution_count": 4,
   "metadata": {},
   "outputs": [],
   "source": [
    "import math\n",
    "import numpy as np"
   ]
  },
  {
   "cell_type": "code",
   "execution_count": 10,
   "metadata": {},
   "outputs": [],
   "source": [
    "# represent vectors as tuples\n",
    "\n",
    "def add(u: tuple, v: tuple) -> tuple:\n",
    "    return tuple(a + b for a, b in zip(u, v))\n",
    "\n",
    "def subtract(u: tuple, v: tuple) -> tuple:\n",
    "    return tuple(a - b for a, b in zip(u, v))\n",
    "\n",
    "def multiply(v: tuple, scalar: float) -> tuple:\n",
    "    return tuple(a * scalar for a in v)\n",
    "\n",
    "def dot(u: tuple, v: tuple) -> float:\n",
    "    return sum(a * b for a, b in zip(u, v))\n",
    "\n",
    "def norm(v: tuple) -> float:\n",
    "    return math.sqrt(dot(v, v))\n",
    "\n",
    "def unit_vector(v: tuple) -> tuple:\n",
    "    return multiply(v, 1 / norm(v))\n",
    "\n",
    "def angle_between(u: tuple, v: tuple) -> float:\n",
    "    # theta = arccos((u * v) / (|u| * |v|))\n",
    "    # in radians\n",
    "    return np.arccos(dot(u, v) / (norm(u) * norm(v)))\n",
    "\n",
    "def orthogonal(u: tuple, v: tuple, tolerance=1e-10) -> bool:\n",
    "    return abs(dot(u, v)) < tolerance\n",
    "\n",
    "def parallel(u: tuple, v: tuple, tolerance=1e-10) -> bool:\n",
    "    return abs(dot(u, v) - (norm(u) * norm(v))) < tolerance\n",
    "\n",
    "def acute_angle(u: tuple, v: tuple) -> bool:\n",
    "    return abs(dot(u, v)) > 0\n",
    "\n",
    "def obtuse_angle(u: tuple, v: tuple) -> bool:\n",
    "    return abs(dot(u, v)) < 0\n",
    "\n",
    "def project(u: tuple, v: tuple) -> tuple:\n",
    "    # project u onto v\n",
    "    # proj_u(v) = ( (u * v) / (v * v) ) * v\n",
    "    return multiply(v, dot(u, v) / dot(v, v))\n",
    "\n",
    "def parallel_component(u: tuple, v: tuple) -> tuple:\n",
    "    # parallel component of u onto v\n",
    "    return project(u, v)\n",
    "\n",
    "def perpendicular_component(u: tuple, v: tuple) -> tuple:\n",
    "    # perpendicular component of u onto v\n",
    "    return subtract(u, parallel_component(u, v))\n",
    "\n",
    "def point_to_line(p: tuple, r0: tuple, v: tuple) -> tuple:\n",
    "    # return the vector from point p to line r0 + tv\n",
    "    # u = (r0 - p) - ((r0 - p) * e_v) * e_v\n",
    "    # where e_v is the unit vector of v\n",
    "    e_v = unit_vector(v)\n",
    "    return subtract(subtract(r0, p), multiply(e_v, dot(subtract(r0, p), e_v)))"
   ]
  },
  {
   "cell_type": "code",
   "execution_count": null,
   "metadata": {},
   "outputs": [],
   "source": []
  }
 ],
 "metadata": {
  "kernelspec": {
   "display_name": "Python 3",
   "language": "python",
   "name": "python3"
  },
  "language_info": {
   "codemirror_mode": {
    "name": "ipython",
    "version": 3
   },
   "file_extension": ".py",
   "mimetype": "text/x-python",
   "name": "python",
   "nbconvert_exporter": "python",
   "pygments_lexer": "ipython3",
   "version": "3.11.6"
  }
 },
 "nbformat": 4,
 "nbformat_minor": 2
}
